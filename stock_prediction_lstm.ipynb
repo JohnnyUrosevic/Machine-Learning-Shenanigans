{
  "nbformat": 4,
  "nbformat_minor": 0,
  "metadata": {
    "colab": {
      "name": "stock prediction lstm.ipynb",
      "version": "0.3.2",
      "provenance": [],
      "include_colab_link": true
    },
    "kernelspec": {
      "name": "python3",
      "display_name": "Python 3"
    },
    "accelerator": "TPU"
  },
  "cells": [
    {
      "cell_type": "markdown",
      "metadata": {
        "id": "view-in-github",
        "colab_type": "text"
      },
      "source": [
        "[![Open In Colab](https://colab.research.google.com/assets/colab-badge.svg)](https://colab.research.google.com/github/JohnnyUrosevic/Machine-Learning-Shenanigans/blob/master/stock_prediction_lstm.ipynb)"
      ]
    },
    {
      "metadata": {
        "id": "61eLDeLeS1ah",
        "colab_type": "code",
        "colab": {}
      },
      "cell_type": "code",
      "source": [
        "import tensorflow as tf\n",
        "import numpy as np\n",
        "import matplotlib.pyplot as plt\n",
        "import pandas as pd\n",
        "from tensorflow import keras"
      ],
      "execution_count": 0,
      "outputs": []
    },
    {
      "metadata": {
        "id": "1T37v8ww5Kbe",
        "colab_type": "code",
        "colab": {
          "resources": {
            "http://localhost:8080/nbextensions/google.colab/files.js": {
              "data": "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",
              "ok": true,
              "headers": [
                [
                  "content-type",
                  "application/javascript"
                ]
              ],
              "status": 200,
              "status_text": ""
            }
          },
          "base_uri": "https://localhost:8080/",
          "height": 55
        },
        "outputId": "2c2ef86e-b1a2-447f-d193-27de40141a5a"
      },
      "cell_type": "code",
      "source": [
        "#collect data\n",
        "from google.colab import files\n",
        "files.upload()"
      ],
      "execution_count": 69,
      "outputs": [
        {
          "output_type": "display_data",
          "data": {
            "text/html": [
              "\n",
              "     <input type=\"file\" id=\"files-bac544dd-986d-45ce-a3b8-bb2e0c92f0a8\" name=\"files[]\" multiple disabled />\n",
              "     <output id=\"result-bac544dd-986d-45ce-a3b8-bb2e0c92f0a8\">\n",
              "      Upload widget is only available when the cell has been executed in the\n",
              "      current browser session. Please rerun this cell to enable.\n",
              "      </output>\n",
              "      <script src=\"/nbextensions/google.colab/files.js\"></script> "
            ],
            "text/plain": [
              "<IPython.core.display.HTML object>"
            ]
          },
          "metadata": {
            "tags": []
          }
        },
        {
          "output_type": "execute_result",
          "data": {
            "text/plain": [
              "{}"
            ]
          },
          "metadata": {
            "tags": []
          },
          "execution_count": 69
        }
      ]
    },
    {
      "metadata": {
        "id": "FHLMdeIn8Y4P",
        "colab_type": "code",
        "colab": {
          "base_uri": "https://localhost:8080/",
          "height": 5202
        },
        "outputId": "e0839038-bf88-44e3-b746-74be6c048f25"
      },
      "cell_type": "code",
      "source": [
        "#format data\n",
        "data = pd.read_csv('NFLX_data.csv')\n",
        "values = data['close']\n",
        "\n",
        "min_val = values.min()\n",
        "max_val = values.max()\n",
        "\n",
        "#scale data between 0 and 1\n",
        "values = (values-values.min())/(values.max()-values.min())\n",
        "\n",
        "LOOK_BACK = 14\n",
        "\n",
        "def processData(data,lb):\n",
        "    X,Y = [],[]\n",
        "    for i in range(len(data)-lb-1):\n",
        "        X.append(data[i:(i+lb)])\n",
        "        Y.append(data[(i+lb)])\n",
        "    return np.array(X),np.array(Y)\n",
        "X,y = processData(values,LOOK_BACK)\n",
        "\n",
        "X_train,X_test = X[:int(X.shape[0]*0.80)],X[int(X.shape[0]*0.80):]\n",
        "y_train,y_test = y[:int(y.shape[0]*0.80)],y[int(y.shape[0]*0.80):]\n",
        "print(X_train)\n",
        "print(X_test)\n",
        "print(y_train)\n",
        "print(y_test)"
      ],
      "execution_count": 70,
      "outputs": [
        {
          "output_type": "stream",
          "text": [
            "[[0.00979159 0.00810767 0.00814059 ... 0.01149732 0.01162323 0.01367876]\n",
            " [0.00810767 0.00814059 0.01268869 ... 0.01162323 0.01367876 0.01438409]\n",
            " [0.00814059 0.01268869 0.01330715 ... 0.01367876 0.01438409 0.00992286]\n",
            " ...\n",
            " [0.42084772 0.44055719 0.44128434 ... 0.44358059 0.44759902 0.45035452]\n",
            " [0.44055719 0.44128434 0.43665357 ... 0.44759902 0.45035452 0.46195058]\n",
            " [0.44128434 0.43665357 0.44706323 ... 0.45035452 0.46195058 0.46478262]]\n",
            "[[0.43665357 0.44706323 0.44480525 ... 0.46195058 0.46478262 0.46248637]\n",
            " [0.44706323 0.44480525 0.44266209 ... 0.46478262 0.46248637 0.46508879]\n",
            " [0.44480525 0.44266209 0.4560186  ... 0.46248637 0.46508879 0.45888891]\n",
            " ...\n",
            " [0.7575161  0.75866423 0.74324109 ... 0.9778412  0.945311   0.92529536]\n",
            " [0.75866423 0.74324109 0.75407173 ... 0.945311   0.92529536 0.93432728]\n",
            " [0.74324109 0.75407173 0.75456925 ... 0.92529536 0.93432728 0.88392461]]\n",
            "[1.43840867e-02 9.92285751e-03 1.02072097e-02 1.08689121e-02\n",
            " 1.01142116e-02 1.18310405e-02 9.50723644e-03 1.04150202e-02\n",
            " 1.60190160e-02 1.38375794e-02 1.19129400e-02 1.23174626e-02\n",
            " 1.00104977e-02 1.09289973e-02 1.03491944e-02 9.97222687e-03\n",
            " 9.69323261e-03 1.50622456e-02 1.48597929e-02 1.43351000e-02\n",
            " 1.05899179e-02 7.45171084e-03 3.65180139e-03 1.98434188e-03\n",
            " 8.74488176e-04 0.00000000e+00 3.44437356e-03 1.64564514e-03\n",
            " 5.43981397e-03 5.54352789e-03 7.34799692e-03 6.99246103e-03\n",
            " 3.44437356e-03 4.15238368e-04 1.69157013e-04 6.18341595e-03\n",
            " 2.94846031e-02 2.93372604e-02 2.77134297e-02 2.86973724e-02\n",
            " 2.84038352e-02 2.89817245e-02 2.72541798e-02 2.81179522e-02\n",
            " 2.75492478e-02 2.60402295e-02 2.36130943e-02 2.49032035e-02\n",
            " 2.91677207e-02 2.98696075e-02 3.62581550e-02 3.87683379e-02\n",
            " 4.39237997e-02 4.04411554e-02 4.15180962e-02 4.18189048e-02\n",
            " 4.04740683e-02 3.58103865e-02 3.45091787e-02 3.59087425e-02\n",
            " 2.79537704e-02 2.85825599e-02 3.25845393e-02 3.45474495e-02\n",
            " 3.22075717e-02 3.40334724e-02 3.30219747e-02 2.98948662e-02\n",
            " 3.12508013e-02 3.16388674e-02 2.81014957e-02 2.43727700e-02\n",
            " 2.86101149e-02 2.78446986e-02 3.61766382e-02 3.59581118e-02\n",
            " 3.78605542e-02 3.30548876e-02 2.94356164e-02 2.87249274e-02\n",
            " 2.72488219e-02 2.68113865e-02 2.83804900e-02 2.62591386e-02\n",
            " 3.34705087e-02 3.19285775e-02 3.16277688e-02 3.39186600e-02\n",
            " 3.82926317e-02 4.61010265e-02 4.41534246e-02 4.43447787e-02\n",
            " 5.15018043e-02 5.18948456e-02 5.32618792e-02 5.73293016e-02\n",
            " 5.65038001e-02 5.55011047e-02 5.40709242e-02 4.76743398e-02\n",
            " 4.27756752e-02 4.57497004e-02 4.55147176e-02 4.47768563e-02\n",
            " 4.41205117e-02 4.45166147e-02 4.70509082e-02 4.54435339e-02\n",
            " 4.96315094e-02 5.07578196e-02 4.71002776e-02 4.77508815e-02\n",
            " 4.90356328e-02 5.11405278e-02 5.25565480e-02 5.39890247e-02\n",
            " 4.93965266e-02 5.23816504e-02 5.28791710e-02 6.02654387e-02\n",
            " 5.86687802e-02 5.83300835e-02 6.30373940e-02 6.54209005e-02\n",
            " 6.17687164e-02 6.57710785e-02 6.82257687e-02 6.60715044e-02\n",
            " 6.88545583e-02 7.07298283e-02 7.21948352e-02 7.02430235e-02\n",
            " 7.16701423e-02 8.20086209e-02 7.94062053e-02 7.56372952e-02\n",
            " 7.79572722e-02 7.60494719e-02 7.46223531e-02 7.86518875e-02\n",
            " 7.78742245e-02 8.24295999e-02 7.59836461e-02 7.84165220e-02\n",
            " 7.87720579e-02 8.22547022e-02 8.16477271e-02 7.99037259e-02\n",
            " 8.83286637e-02 9.16693233e-02 8.67434864e-02 8.97722389e-02\n",
            " 8.47970326e-02 7.61367294e-02 6.85426511e-02 7.70521673e-02\n",
            " 7.53318941e-02 8.81866789e-02 8.67270300e-02 8.73764857e-02\n",
            " 9.13248859e-02 9.31836995e-02 1.04932840e-01 8.71828354e-02\n",
            " 9.14014276e-02 9.19372190e-02 9.01936006e-02 8.25225980e-02\n",
            " 8.97940533e-02 8.47859341e-02 8.71587248e-02 9.08683151e-02\n",
            " 9.54252213e-02 9.75576713e-02 9.43482805e-02 8.95533298e-02\n",
            " 9.39491159e-02 9.55947610e-02 9.33096105e-02 9.41592227e-02\n",
            " 9.81424493e-02 1.02073628e-01 9.77050139e-02 9.52556816e-02\n",
            " 9.64749898e-02 1.01384753e-01 1.01029217e-01 1.02335783e-01\n",
            " 1.05047653e-01 1.09033176e-01 1.10843003e-01 1.09815049e-01\n",
            " 1.09279257e-01 1.05632814e-01 1.06611399e-01 1.04632032e-01\n",
            " 1.05304450e-01 1.09366897e-01 1.09847962e-01 1.14959795e-01\n",
            " 1.12575905e-01 1.11121614e-01 1.15801753e-01 1.16550712e-01\n",
            " 1.16823966e-01 1.16239188e-01 1.18923503e-01 1.17726392e-01\n",
            " 1.16928063e-01 1.11772218e-01 1.11493607e-01 1.12138853e-01\n",
            " 1.09213814e-01 1.09366897e-01 1.07436900e-01 9.64642740e-02\n",
            " 9.72786770e-02 9.51247954e-02 9.24400976e-02 9.49935265e-02\n",
            " 9.56223160e-02 9.14779692e-02 9.21886583e-02 9.12919730e-02\n",
            " 9.05648275e-02 9.33096105e-02 1.23374016e-01 1.21930441e-01\n",
            " 1.19279039e-01 1.33242147e-01 1.29770601e-01 1.32094022e-01\n",
            " 1.34642093e-01 1.31935581e-01 1.32772181e-01 1.31957395e-01\n",
            " 1.33865578e-01 1.45931984e-01 1.46183424e-01 1.48124137e-01\n",
            " 1.45357922e-01 1.49523701e-01 1.48955379e-01 1.49687882e-01\n",
            " 1.44975214e-01 1.48649212e-01 1.47162008e-01 1.55237151e-01\n",
            " 1.58533799e-01 1.56215736e-01 1.58096364e-01 1.54488191e-01\n",
            " 1.54466377e-01 1.59600024e-01 1.58790596e-01 1.57156050e-01\n",
            " 1.55986111e-01 1.51382514e-01 1.50032320e-01 1.49540157e-01\n",
            " 1.45975613e-01 1.42930404e-01 1.41962535e-01 1.40612341e-01\n",
            " 1.40524701e-01 1.42809851e-01 1.32815810e-01 1.18005004e-01\n",
            " 1.13598502e-01 1.14385732e-01 1.09957416e-01 1.07054192e-01\n",
            " 1.03314368e-01 1.10236028e-01 1.09246344e-01 1.04768659e-01\n",
            " 9.52667801e-02 9.56441304e-02 1.01597921e-01 1.03861258e-01\n",
            " 9.38561178e-02 8.94714303e-02 9.21339310e-02 8.92310895e-02\n",
            " 9.20409329e-02 9.98757347e-02 1.01379012e-01 1.14724812e-01\n",
            " 1.04118055e-01 9.89625930e-02 8.69401984e-02 8.26374104e-02\n",
            " 8.57319887e-02 8.69183840e-02 9.48343199e-02 9.70926808e-02\n",
            " 9.91321327e-02 8.91870781e-02 8.60982404e-02 8.67105735e-02\n",
            " 9.04775700e-02 9.97172935e-02 1.00641151e-01 1.03232468e-01\n",
            " 9.90284188e-02 1.02139071e-01 1.10132314e-01 1.14052394e-01\n",
            " 1.24401588e-01 1.25057932e-01 1.30825727e-01 1.28890372e-01\n",
            " 1.30218752e-01 1.37851101e-01 1.39288936e-01 1.41601641e-01\n",
            " 1.39146951e-01 1.42230431e-01 1.45040657e-01 1.46013884e-01\n",
            " 1.42164988e-01 1.45007744e-01 1.45942700e-01 1.41814810e-01\n",
            " 1.44690862e-01 1.46085068e-01 1.53405510e-01 1.56155650e-01\n",
            " 1.52170128e-01 1.51508425e-01 1.51147531e-01 1.49419987e-01\n",
            " 1.53711676e-01 1.51196901e-01 1.52547095e-01 1.51738050e-01\n",
            " 1.69506425e-01 1.66029521e-01 1.69096545e-01 1.62683504e-01\n",
            " 1.54170926e-01 1.53050356e-01 1.50617098e-01 1.51388255e-01\n",
            " 1.58287718e-01 1.56379917e-01 1.53837587e-01 1.51060274e-01\n",
            " 1.53689862e-01 1.57943280e-01 1.46538577e-01 1.44794576e-01\n",
            " 1.43416826e-01 1.41492570e-01 1.43023402e-01 1.42815592e-01\n",
            " 1.48326589e-01 1.41962535e-01 1.43427925e-01 1.41951819e-01\n",
            " 1.42033719e-01 1.46106882e-01 1.56696800e-01 1.54608361e-01\n",
            " 1.57719013e-01 1.54914528e-01 1.57713655e-01 1.57352762e-01\n",
            " 1.61846904e-01 1.65624999e-01 1.66800296e-01 1.69008904e-01\n",
            " 1.68932363e-01 1.72835986e-01 1.73787399e-01 1.72928984e-01\n",
            " 1.70381296e-01 1.70660290e-01 1.71988670e-01 1.71419966e-01\n",
            " 1.71852043e-01 1.69271442e-01 1.70917087e-01 1.72912528e-01\n",
            " 1.72737630e-01 1.75679125e-01 1.74131836e-01 1.71392794e-01\n",
            " 1.61114400e-01 1.60655150e-01 1.59353943e-01 1.61803275e-01\n",
            " 1.60988489e-01 1.52929803e-01 1.53542136e-01 1.57183222e-01\n",
            " 1.53318252e-01 1.56193921e-01 1.56636715e-01 1.57522301e-01\n",
            " 1.50754107e-01 1.56866340e-01 1.62092985e-01 1.64247249e-01\n",
            " 1.60294257e-01 1.66094964e-01 1.63230011e-01 1.58014464e-01\n",
            " 1.50633554e-01 1.56395991e-01 1.56106281e-01 1.08601481e-01\n",
            " 1.06080965e-01 1.07245546e-01 1.10946717e-01 1.15681582e-01\n",
            " 1.20268340e-01 1.21351021e-01 1.18278257e-01 1.22006983e-01\n",
            " 1.17567568e-01 1.18065089e-01 1.25587983e-01 1.23204477e-01\n",
            " 1.20126355e-01 1.18814049e-01 1.20410707e-01 1.20880673e-01\n",
            " 1.22581045e-01 1.20000444e-01 1.20716874e-01 1.18283998e-01\n",
            " 1.21908627e-01 1.19229670e-01 1.19169584e-01 1.09366897e-01\n",
            " 1.12122396e-01 1.07824966e-01 1.05741886e-01 1.01652649e-01\n",
            " 1.02839044e-01 1.00340342e-01 9.77272110e-02 1.03467451e-01\n",
            " 1.05004024e-01 1.02532878e-01 1.02707775e-01 9.64531755e-02\n",
            " 9.88041518e-02 9.36322335e-02 9.38013905e-02 9.37194910e-02\n",
            " 8.96520685e-02 8.38567187e-02 9.32655991e-02 9.36865781e-02\n",
            " 9.68029707e-02 9.49223428e-02 9.47857160e-02 9.78856522e-02\n",
            " 9.67646999e-02 9.77926541e-02 9.85033431e-02 9.76177564e-02\n",
            " 1.01625094e-01 9.19154047e-02 8.88154685e-02 8.97393260e-02\n",
            " 9.37057135e-02 9.08820926e-02 8.51632844e-02 8.78751545e-02\n",
            " 8.81212358e-02 8.78586980e-02 9.52832366e-02 1.01548552e-01\n",
            " 1.34614538e-01 1.45090026e-01 1.50018542e-01 1.54996427e-01\n",
            " 1.59157231e-01 1.52754906e-01 1.53487409e-01 1.52394012e-01\n",
            " 1.51992168e-01 1.60660508e-01 1.56172107e-01 1.56281179e-01\n",
            " 1.53793576e-01 1.53085566e-01 1.59036678e-01 1.59550655e-01\n",
            " 1.60556794e-01 1.65679343e-01 1.67789979e-01 1.70578008e-01\n",
            " 1.70326569e-01 1.72294837e-01 1.68817550e-01 1.70479652e-01\n",
            " 1.72366021e-01 1.74935523e-01 1.70496108e-01 1.73415789e-01\n",
            " 1.70386654e-01 1.67685882e-01 1.66527042e-01 1.59129676e-01\n",
            " 1.54488191e-01 1.48709298e-01 1.51513783e-01 1.55958938e-01\n",
            " 1.50535198e-01 1.41552655e-01 1.39666286e-01 1.42181444e-01\n",
            " 1.43323828e-01 1.45010423e-01 1.43209016e-01 1.50469755e-01\n",
            " 1.41432102e-01 1.39524301e-01 1.37616118e-01 1.41880636e-01\n",
            " 1.38665887e-01 1.36714075e-01 1.37238768e-01 1.41738268e-01\n",
            " 1.42367058e-01 1.52147930e-01 1.51136815e-01 1.59375757e-01\n",
            " 1.70370580e-01 1.72573831e-01 1.70796917e-01 2.18137918e-01\n",
            " 2.23331651e-01 2.21057216e-01 2.17257689e-01 2.15748671e-01\n",
            " 2.16502989e-01 2.16139416e-01 2.20341169e-01 2.18690166e-01\n",
            " 2.18575354e-01 2.15103425e-01 2.15393135e-01 2.14228554e-01\n",
            " 2.20051459e-01 2.17312417e-01 2.19881919e-01 2.24999110e-01\n",
            " 2.33388839e-01 2.29941786e-01 2.28011789e-01 2.31696503e-01\n",
            " 2.46130342e-01 2.48656216e-01 2.47896157e-01 2.50657014e-01\n",
            " 2.51471800e-01 2.50843010e-01 2.47606447e-01 2.54741276e-01\n",
            " 2.53401797e-01 2.52040122e-01 2.51471800e-01 2.51958222e-01\n",
            " 2.50728198e-01 2.52794822e-01 2.57048241e-01 2.53773407e-01\n",
            " 2.64664133e-01 2.77758111e-01 2.74784086e-01 2.72198126e-01\n",
            " 2.68420031e-01 2.75467602e-01 2.71634780e-01 2.73439249e-01\n",
            " 2.70103947e-01 2.79835834e-01 2.83274849e-01 2.81864187e-01\n",
            " 2.74007571e-01 2.67108108e-01 2.63827533e-01 2.70016690e-01\n",
            " 2.69201904e-01 2.70765650e-01 2.72782905e-01 2.70945905e-01\n",
            " 2.68709741e-01 2.77205863e-01 2.82952226e-01 2.97719021e-01\n",
            " 2.94979979e-01 2.86402340e-01 3.54065145e-01 3.50084980e-01\n",
            " 3.33934695e-01 3.41435776e-01 3.37570423e-01 3.32212509e-01\n",
            " 3.29303927e-01 3.18167119e-01 3.19965847e-01 3.20654722e-01\n",
            " 3.37800048e-01 3.48324523e-01 3.41627130e-01 3.74501762e-01\n",
            " 3.84299091e-01 3.94785295e-01 3.83571946e-01 3.81696675e-01\n",
            " 3.80586822e-01 3.72052429e-01 3.84375633e-01 3.83074425e-01\n",
            " 3.90613776e-01 3.85600299e-01 3.77984406e-01 3.41359234e-01\n",
            " 3.08714227e-01 2.81618488e-01 2.99376147e-01 3.32327321e-01\n",
            " 3.61145247e-01 3.61030434e-01 3.51080022e-01 3.15717786e-01\n",
            " 3.14378308e-01 2.97615690e-01 2.88928214e-01 2.74232220e-01\n",
            " 2.90420776e-01 2.91568901e-01 2.84029550e-01 2.77064261e-01\n",
            " 2.90344235e-01 3.09173477e-01 3.09670997e-01 3.03585937e-01\n",
            " 2.94707108e-01 2.87703548e-01 2.86172715e-01 3.07948810e-01\n",
            " 3.02131646e-01 2.91530630e-01 2.87244298e-01 3.06035270e-01\n",
            " 3.16444932e-01 3.16942453e-01 3.36613653e-01 3.25438574e-01\n",
            " 3.24558345e-01 3.50697313e-01 3.44573983e-01 3.45033232e-01\n",
            " 3.30796488e-01 3.32710029e-01 2.97730502e-01 2.89693631e-01\n",
            " 3.00026751e-01 2.89693631e-01 2.85751736e-01 2.83302404e-01\n",
            " 2.93712066e-01 3.05193312e-01 3.05308124e-01 3.15756057e-01\n",
            " 3.13153642e-01 3.25629928e-01 3.22797888e-01 3.30834759e-01\n",
            " 3.47329482e-01 3.45224587e-01 3.47367752e-01 3.31294009e-01\n",
            " 3.42162921e-01 3.42775254e-01 3.27696552e-01 3.07527831e-01\n",
            " 3.36996361e-01 3.59002081e-01 3.72511679e-01 3.70942576e-01\n",
            " 3.84796612e-01 3.89350839e-01 3.82768258e-01 3.86021278e-01\n",
            " 3.90919942e-01 3.82844800e-01 3.90652047e-01 4.04276458e-01\n",
            " 3.96163044e-01 4.11930621e-01 3.90613776e-01 3.96813648e-01\n",
            " 3.86174361e-01 3.81237426e-01 3.65929099e-01 3.72664763e-01\n",
            " 3.64742703e-01 3.80204114e-01 3.79706593e-01 3.62522996e-01\n",
            " 3.57203352e-01 3.55710790e-01 3.63058787e-01 3.59882310e-01\n",
            " 3.59040352e-01 3.66732786e-01 3.57509519e-01 3.48592418e-01\n",
            " 3.31676717e-01 3.22874429e-01 3.61221788e-01 3.49281293e-01\n",
            " 3.37149444e-01 3.50850397e-01 3.57011998e-01 3.18664639e-01\n",
            " 3.20578180e-01 3.09020393e-01 3.23754658e-01 3.23180596e-01\n",
            " 3.02552625e-01 2.96314482e-01 2.90191151e-01 2.85254216e-01\n",
            " 2.59689310e-01 2.72165596e-01 2.62329996e-01 2.70940930e-01\n",
            " 2.60990518e-01 2.58120206e-01 2.54178312e-01 2.27694907e-01\n",
            " 2.29723260e-01 2.40477360e-01 2.49356189e-01 2.41319318e-01\n",
            " 2.45337753e-01 2.51652438e-01 2.73505075e-01 2.57163436e-01\n",
            " 2.52341313e-01 2.62674434e-01 2.51920334e-01 2.61449767e-01\n",
            " 2.72624846e-01 2.73619887e-01 2.68338515e-01 2.87052944e-01\n",
            " 2.84412258e-01 2.85636924e-01 2.99605772e-01 2.76298845e-01\n",
            " 2.79130885e-01 2.85904820e-01 2.83455487e-01 2.84603612e-01\n",
            " 2.86402340e-01 2.85369028e-01 2.91071380e-01 2.92487400e-01\n",
            " 2.97845315e-01 2.97615690e-01 2.92946650e-01 2.91989880e-01\n",
            " 2.87282569e-01 2.98189752e-01 3.09364831e-01 3.01940292e-01\n",
            " 3.02093375e-01 3.15373349e-01 3.10206789e-01 3.12464767e-01\n",
            " 3.12043788e-01 3.10589497e-01 3.08140165e-01 3.03815562e-01\n",
            " 3.20272014e-01 3.30490322e-01 3.33437175e-01 3.37608694e-01\n",
            " 3.25706470e-01 2.71897701e-01 2.81197509e-01 2.74347033e-01\n",
            " 2.77867948e-01 2.68912577e-01 2.64587974e-01 2.59268331e-01\n",
            " 2.56359749e-01 2.55402978e-01 2.67190390e-01 2.61181872e-01\n",
            " 2.58311560e-01 2.52877104e-01 2.58502915e-01 2.57354790e-01\n",
            " 2.66348432e-01 2.55364707e-01 2.46638961e-01 2.47174753e-01\n",
            " 2.51920334e-01 2.50045064e-01 2.57201707e-01 2.53565979e-01\n",
            " 2.64817599e-01 2.74002596e-01 2.85483841e-01 2.94324400e-01\n",
            " 3.04313083e-01 3.06188353e-01 3.03394583e-01 2.99337877e-01\n",
            " 2.98342835e-01 2.91989880e-01 2.96391024e-01 2.93138004e-01\n",
            " 2.85369028e-01 2.82422175e-01 2.69639722e-01 2.70022431e-01\n",
            " 2.71055743e-01 2.71706346e-01 2.76107490e-01 2.72318680e-01\n",
            " 2.69831076e-01 2.59076977e-01 2.55326437e-01 2.61641122e-01\n",
            " 2.49317918e-01 2.37415694e-01 2.47519190e-01 2.59344872e-01\n",
            " 2.60952247e-01 2.80814801e-01 2.85560382e-01 2.72892742e-01\n",
            " 2.74806283e-01 2.82307363e-01 2.73160638e-01 2.78135844e-01\n",
            " 2.79896301e-01 2.85981361e-01 2.87397382e-01 2.89004756e-01\n",
            " 2.39367506e-01 2.47289565e-01 2.39941568e-01 2.39558860e-01\n",
            " 2.46332795e-01 2.60684351e-01 2.63095413e-01 2.61602851e-01\n",
            " 2.60072018e-01 2.72012513e-01 2.68912577e-01 2.67152119e-01\n",
            " 2.68453327e-01 2.82192550e-01 2.74844554e-01 2.70558222e-01\n",
            " 2.70328597e-01 2.77829677e-01 2.80508634e-01 2.75609970e-01\n",
            " 2.74882824e-01 2.79666676e-01 2.78862989e-01 2.77753136e-01\n",
            " 2.75418616e-01 2.78021031e-01 2.75112449e-01 2.83302404e-01\n",
            " 2.84297445e-01 2.83225862e-01 2.83799925e-01 2.83799925e-01\n",
            " 2.83532029e-01 2.83532029e-01 2.93903421e-01 2.90305964e-01\n",
            " 2.92257775e-01 2.80164197e-01 2.89923256e-01 2.78595094e-01\n",
            " 2.82116009e-01 2.83378946e-01 2.91568901e-01 2.86134445e-01\n",
            " 2.86861590e-01 2.73964325e-01 2.77600052e-01 2.78021031e-01\n",
            " 2.72739659e-01 2.82345634e-01 2.83914737e-01 2.80814801e-01\n",
            " 2.88009715e-01 3.03624208e-01 3.02514354e-01 3.17593056e-01\n",
            " 3.12962288e-01 3.12005517e-01 3.06303165e-01 2.95816961e-01\n",
            " 2.91645442e-01 2.94439212e-01 2.99184793e-01 2.92793567e-01\n",
            " 3.65469849e-01 3.77257261e-01 3.82921342e-01 3.98803731e-01\n",
            " 3.98153127e-01 3.95014920e-01 3.96775377e-01 3.94861837e-01\n",
            " 3.95244545e-01 3.88738506e-01 3.82729988e-01 3.79055989e-01\n",
            " 3.78290573e-01 3.77869594e-01 3.87628652e-01 3.86710153e-01\n",
            " 3.78481927e-01 3.52572583e-01 3.50123251e-01 3.44765337e-01\n",
            " 3.45569024e-01 3.51692355e-01 3.51080022e-01 3.51768896e-01\n",
            " 3.62293371e-01 3.62599538e-01 3.61260059e-01 3.60188476e-01\n",
            " 3.58351477e-01 3.60571184e-01 3.58619373e-01 3.59461331e-01\n",
            " 3.73200554e-01 3.66885869e-01 3.87590381e-01 3.90728588e-01\n",
            " 3.82500363e-01 3.81122613e-01 3.80931259e-01 3.84566987e-01\n",
            " 3.83265779e-01 3.89236026e-01 3.86250903e-01 3.90958213e-01\n",
            " 3.89695276e-01 3.94976649e-01 3.91455734e-01 3.91494005e-01\n",
            " 4.02056750e-01 3.92642129e-01 3.90498963e-01 3.84643528e-01\n",
            " 3.98765460e-01 4.06113457e-01 4.15298453e-01 4.12466413e-01\n",
            " 4.12007163e-01 4.07950456e-01 4.10284976e-01 4.05233228e-01\n",
            " 4.22531638e-01 4.19431701e-01 4.20847722e-01 4.40557192e-01\n",
            " 4.41284338e-01 4.36653569e-01 4.47063231e-01 4.44805253e-01\n",
            " 4.42662087e-01 4.56018603e-01 4.51311292e-01 4.49359480e-01\n",
            " 4.49627376e-01 4.43580587e-01 4.47599023e-01 4.50354522e-01\n",
            " 4.61950579e-01 4.64782620e-01 4.62486371e-01]\n",
            "[0.46508879 0.45888891 0.44978046 0.45532973 0.45433469 0.45513837\n",
            " 0.45659266 0.46141479 0.45728154 0.45908027 0.4596926  0.45479394\n",
            " 0.45678402 0.44484352 0.44335096 0.45406679 0.45211498 0.44786692\n",
            " 0.44867061 0.45004836 0.46011358 0.45885064 0.46673443 0.46344314\n",
            " 0.46619864 0.46895414 0.45590379 0.45678402 0.45368408 0.45437296\n",
            " 0.4621802  0.46642826 0.47140347 0.47748853 0.47653176 0.47312566\n",
            " 0.4676912  0.46049629 0.46095554 0.45854448 0.46137652 0.46329006\n",
            " 0.46129998 0.45781733 0.47438859 0.45950125 0.44572375 0.45115821\n",
            " 0.45762598 0.46129998 0.49317957 0.48556367 0.49670048 0.49333265\n",
            " 0.50538796 0.50959775 0.50630646 0.51265941 0.51017181 0.50932985\n",
            " 0.5134631  0.52425547 0.51759635 0.52628382 0.52326043 0.52092591\n",
            " 0.49715973 0.50672744 0.51177918 0.51231497 0.51533837 0.51457295\n",
            " 0.53485649 0.5324837  0.53550709 0.53493303 0.53462686 0.54300817\n",
            " 0.54254892 0.5429699  0.54465382 0.54568713 0.51564454 0.49042407\n",
            " 0.49532273 0.49333265 0.49164873 0.49402152 0.49792515 0.49275859\n",
            " 0.50416329 0.5036275  0.51560627 0.51361618 0.48885496 0.49796342\n",
            " 0.48525751 0.48265509 0.47025535 0.47576634 0.47056151 0.48560194\n",
            " 0.49513138 0.50148433 0.51840003 0.51633341 0.52747022 0.52968993\n",
            " 0.61350302 0.61449806 0.61350302 0.6324088  0.62999774 0.62640028\n",
            " 0.63447542 0.6099821  0.61518693 0.60607848 0.6074945  0.60255756\n",
            " 0.59677867 0.60075883 0.60481554 0.59344911 0.58357524 0.55816341\n",
            " 0.56681262 0.56528179 0.55571408 0.56137816 0.54649081 0.548213\n",
            " 0.54905496 0.55892883 0.55785725 0.55429806 0.54595502 0.55043271\n",
            " 0.55690048 0.57940372 0.57948026 0.57959507 0.57875311 0.59685521\n",
            " 0.59589844 0.58602457 0.60638464 0.61943499 0.6136561  0.60979075\n",
            " 0.60871916 0.61740664 0.62146335 0.62081274 0.6333273  0.62785457\n",
            " 0.59417625 0.59735273 0.60726487 0.60240448 0.60489208 0.58828255\n",
            " 0.59662559 0.61675604 0.65479723 0.66868953 0.66428839 0.65743791\n",
            " 0.65694039 0.66042304 0.67431534 0.68652374 0.67427707 0.65919837\n",
            " 0.65762927 0.653917   0.64744923 0.66103537 0.65242444 0.65793543\n",
            " 0.6745067  0.67002901 0.66260447 0.66861299 0.67366474 0.67630543\n",
            " 0.67676468 0.66053785 0.66264275 0.65292196 0.64572704 0.65743791\n",
            " 0.65984898 0.64610975 0.65908356 0.650243   0.65368737 0.66183906\n",
            " 0.6621835  0.66000206 0.6573231  0.67312895 0.63091624 0.6287348\n",
            " 0.62582622 0.61518693 0.61583754 0.62000905 0.61962635 0.6324088\n",
            " 0.62352997 0.6216547  0.62980638 0.63631242 0.63845559 0.63960371\n",
            " 0.62659164 0.63348038 0.63271497 0.63776671 0.62942368 0.62360651\n",
            " 0.64836773 0.64549742 0.68036213 0.69559392 0.69781363 0.7144997\n",
            " 0.72238349 0.71189729 0.72418222 0.74224605 0.7575161  0.75866423\n",
            " 0.74324109 0.75407173 0.75456925 0.78181807 0.8687311  0.91086727\n",
            " 0.94301475 0.96176745 1.         0.9778412  0.945311   0.92529536\n",
            " 0.93432728 0.88392461 0.92778297]\n"
          ],
          "name": "stdout"
        }
      ]
    },
    {
      "metadata": {
        "id": "-7Zc_1EF5IDN",
        "colab_type": "code",
        "colab": {}
      },
      "cell_type": "code",
      "source": [
        "# Define Model\n",
        "model = keras.Sequential()\n",
        "model.add(keras.layers.LSTM(1024,input_shape=(LOOK_BACK,1)))\n",
        "model.add(keras.layers.Dense(1))\n",
        "model.compile(optimizer='adam',loss='mse')\n",
        "X_train = X_train.reshape((X_train.shape[0],X_train.shape[1],1))\n",
        "X_test = X_test.reshape((X_test.shape[0],X_test.shape[1],1))\n",
        "\n"
      ],
      "execution_count": 0,
      "outputs": []
    },
    {
      "metadata": {
        "id": "Pkfz_D5X9iMi",
        "colab_type": "code",
        "colab": {
          "base_uri": "https://localhost:8080/",
          "height": 510
        },
        "outputId": "4c7037ba-5ab6-4ae2-d99e-9ec261dcece0"
      },
      "cell_type": "code",
      "source": [
        "#train model\n",
        "history = model.fit(X_train,y_train,epochs=20,validation_data=(X_test,y_test),shuffle=False)"
      ],
      "execution_count": 0,
      "outputs": [
        {
          "output_type": "stream",
          "text": [
            "Train on 995 samples, validate on 249 samples\n",
            "Epoch 1/20\n",
            "995/995 [==============================] - 43s 43ms/step - loss: 0.0013 - val_loss: 0.0049\n",
            "Epoch 2/20\n",
            "995/995 [==============================] - 39s 39ms/step - loss: 0.0031 - val_loss: 0.0029\n",
            "Epoch 3/20\n",
            "995/995 [==============================] - 39s 39ms/step - loss: 0.0025 - val_loss: 0.0025\n",
            "Epoch 4/20\n",
            "995/995 [==============================] - 39s 39ms/step - loss: 0.0015 - val_loss: 0.0011\n",
            "Epoch 5/20\n",
            "995/995 [==============================] - 40s 41ms/step - loss: 9.6449e-04 - val_loss: 0.0011\n",
            "Epoch 6/20\n",
            "995/995 [==============================] - 39s 39ms/step - loss: 6.4927e-04 - val_loss: 7.9784e-04\n",
            "Epoch 7/20\n",
            "995/995 [==============================] - 39s 39ms/step - loss: 5.0367e-04 - val_loss: 7.5780e-04\n",
            "Epoch 8/20\n",
            "995/995 [==============================] - 39s 39ms/step - loss: 4.1641e-04 - val_loss: 5.7195e-04\n",
            "Epoch 9/20\n",
            "995/995 [==============================] - 39s 39ms/step - loss: 2.7902e-04 - val_loss: 6.4353e-04\n",
            "Epoch 10/20\n",
            "995/995 [==============================] - 39s 40ms/step - loss: 1.6160e-04 - val_loss: 5.1794e-04\n",
            "Epoch 11/20\n",
            "995/995 [==============================] - 39s 39ms/step - loss: 1.6042e-04 - val_loss: 5.0315e-04\n",
            "Epoch 12/20\n",
            "995/995 [==============================] - 39s 39ms/step - loss: 1.5963e-04 - val_loss: 4.9520e-04\n",
            "Epoch 13/20\n",
            "995/995 [==============================] - 40s 40ms/step - loss: 1.5459e-04 - val_loss: 4.9102e-04\n",
            "Epoch 14/20\n",
            "736/995 [=====================>........] - ETA: 9s - loss: 1.3917e-04 "
          ],
          "name": "stdout"
        }
      ]
    },
    {
      "metadata": {
        "id": "fruhp3TiB4gr",
        "colab_type": "code",
        "colab": {
          "base_uri": "https://localhost:8080/",
          "height": 364
        },
        "outputId": "179a4b1f-2e03-4e85-c7ce-b828b603fbff"
      },
      "cell_type": "code",
      "source": [
        "Xt = model.predict(X_test)\n",
        "y_test = y_test.reshape(-1,1) * (max_val - min_val) + min_val\n",
        "Xt = Xt * (max_val - min_val) + min_val\n",
        "plt.plot(y_test, label=\"actual\")\n",
        "plt.plot(Xt, label=\"predicted\")\n",
        "plt.legend()\n",
        "plt.show()\n",
        "#print(\"loss: {}\".format(history.history['loss'][len(history.history['loss']) - 1] * (max_val - min_val)))\n",
        "print((sum(y_test - Xt)/len(Xt))[0])"
      ],
      "execution_count": 66,
      "outputs": [
        {
          "output_type": "display_data",
          "data": {
            "image/png": "[encoded data removed]",
            "text/plain": [
              "<matplotlib.figure.Figure at 0x7fafc70515f8>"
            ]
          },
          "metadata": {
            "tags": []
          }
        },
        {
          "output_type": "stream",
          "text": [
            "-2.002225336914064\n"
          ],
          "name": "stdout"
        }
      ]
    },
    {
      "metadata": {
        "id": "hS00Z5b8OlxU",
        "colab_type": "code",
        "colab": {
          "base_uri": "https://localhost:8080/",
          "height": 636
        },
        "outputId": "b7edc7b5-4fbb-44f9-801d-fa92f684756b"
      },
      "cell_type": "code",
      "source": [
        "# 7 most recent days\n",
        "recent = X_test[len(X_test) - 1].reshape(1,X_train.shape[1],1)\n",
        "print(recent)\n",
        "print(data.tail())\n",
        "\n",
        "future_pred = []\n",
        "for i in range(7):\n",
        "    pred = list(model.predict(recent).reshape(1))[0]\n",
        "    future_pred.append(pred)\n",
        "    Xt = np.append(Xt, [pred * (max_val - min_val) + min_val])\n",
        "    recent = list(recent.reshape(X_train.shape[1]))\n",
        "    recent = recent[1:]\n",
        "    recent.append(pred)\n",
        "    recent = np.reshape(recent, (1, X_train.shape[1], 1))\n",
        "\n",
        "print(future_pred)\n",
        "#plt.plot(y_test, label=\"actual\")\n",
        "plt.plot(Xt, label=\"predicted\")\n",
        "plt.legend()\n",
        "plt.show()"
      ],
      "execution_count": 67,
      "outputs": [
        {
          "output_type": "stream",
          "text": [
            "[[[0.8687311 ]\n",
            "  [0.91086727]\n",
            "  [0.94301475]\n",
            "  [0.96176745]\n",
            "  [1.        ]\n",
            "  [0.9778412 ]\n",
            "  [0.945311  ]\n",
            "  [0.92529536]\n",
            "  [0.93432728]\n",
            "  [0.88392461]]]\n",
            "            date    open     high      low   close    volume  Name\n",
            "1254  2018-02-01  266.41  271.950  263.380  265.07   9669011  NFLX\n",
            "1255  2018-02-02  263.00  270.620  262.710  267.43   9123610  NFLX\n",
            "1256  2018-02-05  262.00  267.899  250.030  254.26  11896053  NFLX\n",
            "1257  2018-02-06  247.70  266.700  245.000  265.72  12595801  NFLX\n",
            "1258  2018-02-07  266.58  272.450  264.325  264.56   8981548  NFLX\n",
            "[0.9249024, 0.9248742, 0.930826, 0.93950206, 0.9468995, 0.95247614, 0.95728225]\n"
          ],
          "name": "stdout"
        },
        {
          "output_type": "display_data",
          "data": {
            "image/png": "[encoded data removed]",
            "text/plain": [
              "<matplotlib.figure.Figure at 0x7fafc6ff05f8>"
            ]
          },
          "metadata": {
            "tags": []
          }
        }
      ]
    }
  ]
}