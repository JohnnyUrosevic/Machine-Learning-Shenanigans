{
  "nbformat": 4,
  "nbformat_minor": 0,
  "metadata": {
    "colab": {
      "name": "autoencoder keras.ipynb",
      "version": "0.3.2",
      "provenance": [],
      "include_colab_link": true
    },
    "kernelspec": {
      "name": "python3",
      "display_name": "Python 3"
    },
    "accelerator": "GPU"
  },
  "cells": [
    {
      "cell_type": "markdown",
      "metadata": {
        "id": "view-in-github",
        "colab_type": "text"
      },
      "source": [
        "[View in Colaboratory](https://colab.research.google.com/github/JohnnyUrosevic/Machine-Learning-Shenanigans/blob/master/autoencoder_keras.ipynb)"
      ]
    },
    {
      "metadata": {
        "id": "_53is74GQvdG",
        "colab_type": "code",
        "colab": {
          "base_uri": "https://localhost:8080/",
          "height": 85
        },
        "outputId": "114d01b6-1689-43d3-e0a2-654a30c763a6"
      },
      "cell_type": "code",
      "source": [
        "#get input from google drive\n",
        "from google.colab import auth\n",
        "from googleapiclient.discovery import build\n",
        "import io , requests, os\n",
        "import sys\n",
        "auth.authenticate_user()\n",
        "from googleapiclient.discovery import build\n",
        "drive_service = build('drive', 'v3')\n",
        "\n",
        "SOURCE_FOLDER='/content/datalab/'\n",
        "\n",
        "\n",
        "def get_parent_folder(folder_name):\n",
        "  page_token = None\n",
        "  folder_array = []\n",
        "  query = \"name='%s' and mimeType='application/vnd.google-apps.folder'\" % folder_name\n",
        "  while True:\n",
        "      response = drive_service.files().list(q=query,\n",
        "                                          spaces='drive',\n",
        "                                          fields='nextPageToken, files(id, name)',\n",
        "                                          pageToken=page_token).execute()\n",
        "      for file in response.get('files', []):\n",
        "          # Process change\n",
        "          #print (file.get('name'), file.get('id'))\n",
        "          folder_array.append({\"name\" : file.get('name'), \"id\" : file.get('id')})\n",
        "      page_token = response.get('nextPageToken', None)\n",
        "      if page_token is None:\n",
        "          break\n",
        "  return folder_array\n",
        "\n",
        "\n",
        "def get_files_from_parent(parent_id):\n",
        "  page_token = None\n",
        "  folder_array = dict()\n",
        "  query = \"'%s' in parents\" % parent_id\n",
        "  while True:\n",
        "      response = drive_service.files().list(q=query,\n",
        "                                          spaces='drive',\n",
        "                                          fields='nextPageToken, files(id, name)',\n",
        "                                          pageToken=page_token).execute()\n",
        "      for file in response.get('files', []):\n",
        "          # Process change\n",
        "          #print (file.get('name'), file.get('id'))\n",
        "          folder_array.update({file.get('name'):file.get('id')})\n",
        "      page_token = response.get('nextPageToken', None)\n",
        "      if page_token is None:\n",
        "          break\n",
        "  return folder_array\n",
        "\n",
        "def get_file_buffer(file_id, verbose=0):\n",
        "  from googleapiclient.http import MediaIoBaseDownload\n",
        "  request = drive_service.files().get_media(fileId=file_id)\n",
        "  downloaded = io.BytesIO()\n",
        "  downloader = MediaIoBaseDownload(downloaded, request)\n",
        "  done = False\n",
        "  while done is False:\n",
        "    # _ is a placeholder for a progress object that we ignore.\n",
        "    # (Our file is small, so we skip reporting progress.)\n",
        "    progress, done = downloader.next_chunk()\n",
        "    if verbose:\n",
        "      sys.stdout.flush()\n",
        "      sys.stdout.write('\\r')\n",
        "      percentage_done = progress.resumable_progress * 100/progress.total_size\n",
        "      sys.stdout.write(\"[%-100s] %d%%\" % ('='*int(percentage_done), int(percentage_done)))\n",
        "  downloaded.seek(0)\n",
        "  return downloaded\n",
        "\n",
        "parent_folder = get_parent_folder('Kaggle Digit')\n",
        "\n",
        "input_file_meta = get_files_from_parent(parent_folder[0][\"id\"])\n",
        "\n",
        "\n",
        "for file, id in input_file_meta.items():\n",
        "  downloaded = get_file_buffer(id, verbose=1)\n",
        "  dest_file = os.path.join(SOURCE_FOLDER, file)\n",
        "  print(\"processing %s data\" % file)\n",
        "  with open(dest_file, \"wb\") as out:\n",
        "    out.write(downloaded.read())\n",
        "    print(\"Done %s\" % dest_file)"
      ],
      "execution_count": 3,
      "outputs": [
        {
          "output_type": "stream",
          "text": [
            "\r[====================================================================================================] 100%processing test.csv data\n",
            "Done /content/datalab/test.csv\n",
            "[====================================================================================================] 100%processing train.csv data\n",
            "Done /content/datalab/train.csv\n"
          ],
          "name": "stdout"
        }
      ]
    },
    {
      "metadata": {
        "id": "CK2fhEnlKMef",
        "colab_type": "code",
        "colab": {
          "base_uri": "https://localhost:8080/",
          "height": 1802
        },
        "outputId": "6bf12d1a-f5af-42ed-a9ba-5f7b717c3afd"
      },
      "cell_type": "code",
      "source": [
        "import tensorflow as tf\n",
        "import numpy as np\n",
        "import matplotlib.pyplot as plt\n",
        "from tensorflow import keras\n",
        "\n",
        "# Import MNIST data\n",
        "from tensorflow.examples.tutorials.mnist import input_data\n",
        "mnist = input_data.read_data_sets(\"/tmp/data/\", one_hot=True)\n",
        "\n",
        "\n",
        "leaky_relu = keras.layers.LeakyReLU(alpha=.2)\n",
        "leaky_relu2 = keras.layers.LeakyReLU(alpha=.2)\n",
        "leaky_relu3 = keras.layers.LeakyReLU(alpha=.2)\n",
        "\n",
        "encoder_1 = keras.layers.Dense(256)\n",
        "encoder_2 = keras.layers.Dense(32)\n",
        "\n",
        "decoder_1 = keras.layers.Dense(256)\n",
        "decoder_2 = keras.layers.Dense(784, activation='sigmoid')\n",
        "\n",
        "model = keras.Sequential()\n",
        "model.add(encoder_1)\n",
        "model.add(leaky_relu)\n",
        "model.add(encoder_2)\n",
        "model.add(leaky_relu2)\n",
        "model.add(decoder_1)\n",
        "model.add(leaky_relu3)\n",
        "model.add(decoder_2)\n",
        "\n",
        "encoder_model = keras.Sequential()\n",
        "encoder_model.add(encoder_1)\n",
        "encoder_model.add(leaky_relu)\n",
        "encoder_model.add(encoder_2)\n",
        "encoder_model.add(leaky_relu2)\n",
        "\n",
        "decoder_model = keras.Sequential()\n",
        "decoder_model.add(decoder_1)\n",
        "model.add(leaky_relu3)\n",
        "decoder_model.add(decoder_2)\n",
        "\n",
        "#Define training\n",
        "model.compile(optimizer='RMSPROP', loss='binary_crossentropy', metrics=['mae'])\n",
        "\n",
        "#import data into memory\n",
        "data = np.loadtxt(\"/content/datalab/train.csv\", skiprows=1, delimiter=',')\n",
        "\n",
        "\n",
        "features = data[:, 1:]/255\n",
        "\n",
        "model.fit(features, features, epochs=50, batch_size=32)\n"
      ],
      "execution_count": 6,
      "outputs": [
        {
          "output_type": "stream",
          "text": [
            "Extracting /tmp/data/train-images-idx3-ubyte.gz\n",
            "Extracting /tmp/data/train-labels-idx1-ubyte.gz\n",
            "Extracting /tmp/data/t10k-images-idx3-ubyte.gz\n",
            "Extracting /tmp/data/t10k-labels-idx1-ubyte.gz\n",
            "Epoch 1/50\n",
            "42000/42000 [==============================] - 9s 211us/step - loss: 0.1330 - mean_absolute_error: 0.0624\n",
            "Epoch 2/50\n",
            "31456/42000 [=====================>........] - ETA: 2s - loss: 0.0981 - mean_absolute_error: 0.0376"
          ],
          "name": "stdout"
        },
        {
          "output_type": "stream",
          "text": [
            "42000/42000 [==============================] - 9s 203us/step - loss: 0.0971 - mean_absolute_error: 0.0368\n",
            "Epoch 3/50\n",
            "42000/42000 [==============================] - 9s 205us/step - loss: 0.0910 - mean_absolute_error: 0.0324\n",
            "Epoch 4/50\n",
            "42000/42000 [==============================] - 9s 203us/step - loss: 0.0880 - mean_absolute_error: 0.0302\n",
            "Epoch 5/50\n",
            " 2624/42000 [>.............................] - ETA: 7s - loss: 0.0869 - mean_absolute_error: 0.0294"
          ],
          "name": "stdout"
        },
        {
          "output_type": "stream",
          "text": [
            "42000/42000 [==============================] - 9s 203us/step - loss: 0.0861 - mean_absolute_error: 0.0288\n",
            "Epoch 6/50\n",
            "42000/42000 [==============================] - 9s 206us/step - loss: 0.0848 - mean_absolute_error: 0.0278\n",
            "Epoch 7/50\n",
            "35104/42000 [========================>.....] - ETA: 1s - loss: 0.0838 - mean_absolute_error: 0.0271"
          ],
          "name": "stdout"
        },
        {
          "output_type": "stream",
          "text": [
            "42000/42000 [==============================] - 9s 221us/step - loss: 0.0838 - mean_absolute_error: 0.0271\n",
            "Epoch 8/50\n",
            "42000/42000 [==============================] - 9s 223us/step - loss: 0.0830 - mean_absolute_error: 0.0266\n",
            "Epoch 9/50\n",
            "41344/42000 [============================>.] - ETA: 0s - loss: 0.0825 - mean_absolute_error: 0.0261"
          ],
          "name": "stdout"
        },
        {
          "output_type": "stream",
          "text": [
            "42000/42000 [==============================] - 10s 227us/step - loss: 0.0824 - mean_absolute_error: 0.0261\n",
            "Epoch 10/50\n",
            "42000/42000 [==============================] - 9s 225us/step - loss: 0.0820 - mean_absolute_error: 0.0258\n",
            "Epoch 11/50\n",
            "42000/42000 [==============================] - 9s 205us/step - loss: 0.0815 - mean_absolute_error: 0.0255\n",
            "Epoch 12/50\n",
            " 2976/42000 [=>............................] - ETA: 7s - loss: 0.0805 - mean_absolute_error: 0.0248"
          ],
          "name": "stdout"
        },
        {
          "output_type": "stream",
          "text": [
            "42000/42000 [==============================] - 8s 202us/step - loss: 0.0812 - mean_absolute_error: 0.0252\n",
            "Epoch 13/50\n",
            "42000/42000 [==============================] - 9s 212us/step - loss: 0.0809 - mean_absolute_error: 0.0250\n",
            "Epoch 14/50\n",
            "35168/42000 [========================>.....] - ETA: 1s - loss: 0.0806 - mean_absolute_error: 0.0247"
          ],
          "name": "stdout"
        },
        {
          "output_type": "stream",
          "text": [
            "42000/42000 [==============================] - 9s 215us/step - loss: 0.0806 - mean_absolute_error: 0.0248\n",
            "Epoch 15/50\n",
            "42000/42000 [==============================] - 9s 214us/step - loss: 0.0803 - mean_absolute_error: 0.0246\n",
            "Epoch 16/50\n",
            "42000/42000 [==============================] - 8s 202us/step - loss: 0.0801 - mean_absolute_error: 0.0244\n",
            "Epoch 17/50\n",
            " 3200/42000 [=>............................] - ETA: 7s - loss: 0.0797 - mean_absolute_error: 0.0241"
          ],
          "name": "stdout"
        },
        {
          "output_type": "stream",
          "text": [
            "42000/42000 [==============================] - 9s 206us/step - loss: 0.0799 - mean_absolute_error: 0.0243\n",
            "Epoch 18/50\n",
            "42000/42000 [==============================] - 9s 206us/step - loss: 0.0797 - mean_absolute_error: 0.0241\n",
            "Epoch 19/50\n",
            "36928/42000 [=========================>....] - ETA: 1s - loss: 0.0796 - mean_absolute_error: 0.0240"
          ],
          "name": "stdout"
        },
        {
          "output_type": "stream",
          "text": [
            "42000/42000 [==============================] - 9s 205us/step - loss: 0.0796 - mean_absolute_error: 0.0240\n",
            "Epoch 20/50\n",
            "42000/42000 [==============================] - 9s 212us/step - loss: 0.0794 - mean_absolute_error: 0.0239\n",
            "Epoch 21/50\n",
            "42000/42000 [==============================] - 9s 223us/step - loss: 0.0793 - mean_absolute_error: 0.0238\n",
            "Epoch 22/50\n",
            "  512/42000 [..............................] - ETA: 9s - loss: 0.0776 - mean_absolute_error: 0.0230 "
          ],
          "name": "stdout"
        },
        {
          "output_type": "stream",
          "text": [
            "42000/42000 [==============================] - 9s 217us/step - loss: 0.0792 - mean_absolute_error: 0.0237\n",
            "Epoch 23/50\n",
            "42000/42000 [==============================] - 9s 203us/step - loss: 0.0790 - mean_absolute_error: 0.0236\n",
            "Epoch 24/50\n",
            "36512/42000 [=========================>....] - ETA: 1s - loss: 0.0789 - mean_absolute_error: 0.0235"
          ],
          "name": "stdout"
        },
        {
          "output_type": "stream",
          "text": [
            "42000/42000 [==============================] - 9s 203us/step - loss: 0.0789 - mean_absolute_error: 0.0235\n",
            "Epoch 25/50\n",
            "42000/42000 [==============================] - 9s 205us/step - loss: 0.0788 - mean_absolute_error: 0.0234\n",
            "Epoch 26/50\n",
            "42000/42000 [==============================] - 9s 207us/step - loss: 0.0787 - mean_absolute_error: 0.0234\n",
            "Epoch 27/50\n",
            " 2816/42000 [=>............................] - ETA: 8s - loss: 0.0781 - mean_absolute_error: 0.0231"
          ],
          "name": "stdout"
        },
        {
          "output_type": "stream",
          "text": [
            "42000/42000 [==============================] - 9s 206us/step - loss: 0.0786 - mean_absolute_error: 0.0233\n",
            "Epoch 28/50\n",
            "42000/42000 [==============================] - 8s 202us/step - loss: 0.0785 - mean_absolute_error: 0.0232\n",
            "Epoch 29/50\n",
            "37600/42000 [=========================>....] - ETA: 0s - loss: 0.0785 - mean_absolute_error: 0.0232"
          ],
          "name": "stdout"
        },
        {
          "output_type": "stream",
          "text": [
            "42000/42000 [==============================] - 9s 204us/step - loss: 0.0784 - mean_absolute_error: 0.0232\n",
            "Epoch 30/50\n",
            "42000/42000 [==============================] - 8s 200us/step - loss: 0.0783 - mean_absolute_error: 0.0231\n",
            "Epoch 31/50\n",
            "42000/42000 [==============================] - 8s 202us/step - loss: 0.0783 - mean_absolute_error: 0.0231\n",
            "Epoch 32/50\n",
            " 4448/42000 [==>...........................] - ETA: 7s - loss: 0.0789 - mean_absolute_error: 0.0232"
          ],
          "name": "stdout"
        },
        {
          "output_type": "stream",
          "text": [
            "42000/42000 [==============================] - 9s 202us/step - loss: 0.0782 - mean_absolute_error: 0.0230\n",
            "Epoch 33/50\n",
            "42000/42000 [==============================] - 9s 207us/step - loss: 0.0781 - mean_absolute_error: 0.0230\n",
            "Epoch 34/50\n",
            "36736/42000 [=========================>....] - ETA: 1s - loss: 0.0781 - mean_absolute_error: 0.0229"
          ],
          "name": "stdout"
        },
        {
          "output_type": "stream",
          "text": [
            "42000/42000 [==============================] - 9s 207us/step - loss: 0.0781 - mean_absolute_error: 0.0229\n",
            "Epoch 35/50\n",
            "42000/42000 [==============================] - 9s 203us/step - loss: 0.0780 - mean_absolute_error: 0.0229\n",
            "Epoch 36/50\n",
            "42000/42000 [==============================] - 9s 203us/step - loss: 0.0780 - mean_absolute_error: 0.0228\n",
            "Epoch 37/50\n",
            " 3680/42000 [=>............................] - ETA: 7s - loss: 0.0780 - mean_absolute_error: 0.0228"
          ],
          "name": "stdout"
        },
        {
          "output_type": "stream",
          "text": [
            "42000/42000 [==============================] - 9s 203us/step - loss: 0.0779 - mean_absolute_error: 0.0228\n",
            "Epoch 38/50\n",
            "42000/42000 [==============================] - 9s 205us/step - loss: 0.0779 - mean_absolute_error: 0.0227\n",
            "Epoch 39/50\n",
            "37472/42000 [=========================>....] - ETA: 0s - loss: 0.0777 - mean_absolute_error: 0.0227"
          ],
          "name": "stdout"
        },
        {
          "output_type": "stream",
          "text": [
            "42000/42000 [==============================] - 9s 203us/step - loss: 0.0778 - mean_absolute_error: 0.0227\n",
            "Epoch 40/50\n",
            "42000/42000 [==============================] - 8s 202us/step - loss: 0.0778 - mean_absolute_error: 0.0227\n",
            "Epoch 41/50\n",
            "42000/42000 [==============================] - 9s 224us/step - loss: 0.0777 - mean_absolute_error: 0.0226\n",
            "Epoch 42/50\n",
            " 1312/42000 [..............................] - ETA: 10s - loss: 0.0775 - mean_absolute_error: 0.0224"
          ],
          "name": "stdout"
        },
        {
          "output_type": "stream",
          "text": [
            "42000/42000 [==============================] - 9s 221us/step - loss: 0.0777 - mean_absolute_error: 0.0226\n",
            "Epoch 43/50\n",
            "42000/42000 [==============================] - 9s 209us/step - loss: 0.0776 - mean_absolute_error: 0.0226\n",
            "Epoch 44/50\n",
            "35360/42000 [========================>.....] - ETA: 1s - loss: 0.0776 - mean_absolute_error: 0.0226"
          ],
          "name": "stdout"
        },
        {
          "output_type": "stream",
          "text": [
            "42000/42000 [==============================] - 9s 207us/step - loss: 0.0776 - mean_absolute_error: 0.0226\n",
            "Epoch 45/50\n",
            "42000/42000 [==============================] - 9s 210us/step - loss: 0.0776 - mean_absolute_error: 0.0225\n",
            "Epoch 46/50\n",
            "42000/42000 [==============================] - 9s 223us/step - loss: 0.0775 - mean_absolute_error: 0.0225\n"
          ],
          "name": "stdout"
        },
        {
          "output_type": "stream",
          "text": [
            "Epoch 47/50\n",
            "42000/42000 [==============================] - 9s 222us/step - loss: 0.0775 - mean_absolute_error: 0.0225\n",
            "Epoch 48/50\n",
            "42000/42000 [==============================] - 9s 203us/step - loss: 0.0775 - mean_absolute_error: 0.0224\n",
            "Epoch 49/50\n",
            "31456/42000 [=====================>........] - ETA: 2s - loss: 0.0774 - mean_absolute_error: 0.0224"
          ],
          "name": "stdout"
        },
        {
          "output_type": "stream",
          "text": [
            "42000/42000 [==============================] - 9s 203us/step - loss: 0.0774 - mean_absolute_error: 0.0224\n",
            "Epoch 50/50\n",
            "42000/42000 [==============================] - 9s 210us/step - loss: 0.0774 - mean_absolute_error: 0.0224\n"
          ],
          "name": "stdout"
        },
        {
          "output_type": "execute_result",
          "data": {
            "text/plain": [
              "<tensorflow.python.keras.callbacks.History at 0x7f4748245a20>"
            ]
          },
          "metadata": {
            "tags": []
          },
          "execution_count": 6
        }
      ]
    },
    {
      "metadata": {
        "id": "T1Zvmc4iVRbX",
        "colab_type": "code",
        "colab": {
          "base_uri": "https://localhost:8080/",
          "height": 244
        },
        "outputId": "75ab070d-359a-4814-bb2a-e10fa949dca5"
      },
      "cell_type": "code",
      "source": [
        "test_data = np.loadtxt(\"/content/datalab/test.csv\", skiprows=1, delimiter=',')\n",
        "x_test = test_data/255\n",
        "\n",
        "decoded_imgs = model.predict(x_test)\n",
        "\n",
        "n = 10  # how many digits we will display\n",
        "plt.figure(figsize=(20, 4))\n",
        "for i in range(n):\n",
        "    # display original\n",
        "    ax = plt.subplot(2, n, i + 1)\n",
        "    plt.imshow(x_test[i].reshape(28, 28))\n",
        "    plt.gray()\n",
        "    ax.get_xaxis().set_visible(False)\n",
        "    ax.get_yaxis().set_visible(False)\n",
        "\n",
        "    # display reconstruction\n",
        "    ax = plt.subplot(2, n, i + 1 + n)\n",
        "    plt.imshow(decoded_imgs[i].reshape(28, 28))\n",
        "    plt.gray()\n",
        "    ax.get_xaxis().set_visible(False)\n",
        "    ax.get_yaxis().set_visible(False)\n",
        "plt.show()"
      ],
      "execution_count": 19,
      "outputs": [
        {
          "output_type": "display_data",
          "data": {
            "image/png": "[encoded data removed]",
            "text/plain": [
              "<matplotlib.figure.Figure at 0x7f46a82cda20>"
            ]
          },
          "metadata": {
            "tags": []
          }
        }
      ]
    },
    {
      "metadata": {
        "id": "dJQxbnQZY3ND",
        "colab_type": "code",
        "colab": {
          "base_uri": "https://localhost:8080/",
          "height": 34
        },
        "outputId": "a3658c6e-0764-4194-ef73-a4e5ef709861"
      },
      "cell_type": "code",
      "source": [
        "#save model\n",
        "!mkdir /tmp/keras\n",
        "model.save('/tmp/keras/model.h5')\n",
        "#encoder_model.save('/tmp/keras/encoder.h5')\n",
        "#decoder_model.save('/tmp/keras/decoder.h5')\n"
      ],
      "execution_count": 26,
      "outputs": [
        {
          "output_type": "stream",
          "text": [
            "mkdir: cannot create directory ‘/tmp/keras’: File exists\r\n"
          ],
          "name": "stdout"
        }
      ]
    },
    {
      "metadata": {
        "id": "Moe-BqqHZ2oK",
        "colab_type": "code",
        "colab": {
          "base_uri": "https://localhost:8080/",
          "height": 85
        },
        "outputId": "f68dfe60-0824-4975-f73f-0ce80a92feec"
      },
      "cell_type": "code",
      "source": [
        "filename = \"keras\" #@param {type:\"string\"}\n",
        "folders_or_files_to_save = \"/tmp/keras\" #@param {type:\"string\"}\n",
        "from google.colab import files\n",
        "from google.colab import auth\n",
        "from googleapiclient.http import MediaFileUpload\n",
        "from googleapiclient.discovery import build\n",
        "\n",
        "def save_file_to_drive(name, path):\n",
        "    file_metadata = {\n",
        "    'name': name,\n",
        "    'mimeType': 'application/octet-stream'\n",
        "    }\n",
        "\n",
        "    media = MediaFileUpload(path, \n",
        "                  mimetype='application/octet-stream',\n",
        "                  resumable=True)\n",
        "\n",
        "    created = drive_service.files().create(body=file_metadata, media_body=media, fields='id').execute()\n",
        "\n",
        "    print('File ID: {}'.format(created.get('id')))\n",
        "\n",
        "    return created\n",
        "\n",
        "\n",
        "extension_zip = \".zip\"\n",
        "\n",
        "zip_file = filename + extension_zip\n",
        "\n",
        "# !rm -rf $zip_file\n",
        "!zip -r $zip_file {folders_or_files_to_save} # FOLDERS TO SAVE INTO ZIP FILE\n",
        "\n",
        "auth.authenticate_user()\n",
        "drive_service = build('drive', 'v3')\n",
        "\n",
        "destination_name = zip_file\n",
        "path_to_file = zip_file\n",
        "save_file_to_drive(destination_name, path_to_file)"
      ],
      "execution_count": 24,
      "outputs": [
        {
          "output_type": "stream",
          "text": [
            "  adding: tmp/keras/ (stored 0%)\n",
            "  adding: tmp/keras/model.h5 (deflated 10%)\n",
            "File ID: 1prNH07UC-2OuwwiexZKE4UBAgcJZL2To\n"
          ],
          "name": "stdout"
        },
        {
          "output_type": "execute_result",
          "data": {
            "text/plain": [
              "{'id': '1prNH07UC-2OuwwiexZKE4UBAgcJZL2To'}"
            ]
          },
          "metadata": {
            "tags": []
          },
          "execution_count": 24
        }
      ]
    }
  ]
}