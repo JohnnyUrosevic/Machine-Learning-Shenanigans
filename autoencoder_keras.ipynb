{
  "nbformat": 4,
  "nbformat_minor": 0,
  "metadata": {
    "colab": {
      "name": "autoencoder keras.ipynb",
      "version": "0.3.2",
      "provenance": [],
      "include_colab_link": true
    },
    "kernelspec": {
      "name": "python3",
      "display_name": "Python 3"
    },
    "accelerator": "GPU"
  },
  "cells": [
    {
      "cell_type": "markdown",
      "metadata": {
        "id": "view-in-github",
        "colab_type": "text"
      },
      "source": [
        "[View in Colaboratory](https://colab.research.google.com/github/JohnnyUrosevic/Machine-Learning-Shenanigans/blob/master/autoencoder_keras.ipynb)"
      ]
    },
    {
      "metadata": {
        "id": "CK2fhEnlKMef",
        "colab_type": "code",
        "colab": {
          "base_uri": "https://localhost:8080/",
          "height": 714
        },
        "outputId": "36f51f79-ab2f-4524-8e73-7538e07bf7c2"
      },
      "cell_type": "code",
      "source": [
        "import tensorflow as tf\n",
        "import numpy as np\n",
        "import matplotlib.pyplot as plt\n",
        "from tensorflow import keras\n",
        "\n",
        "# Import MNIST data\n",
        "mnist = tf.keras.datasets.mnist\n",
        "\n",
        "inputs = keras.Input(shape=(784,))\n",
        "\n",
        "encoder = keras.layers.Dense(256, activation=tf.nn.leaky_relu)(inputs)\n",
        "encoder = keras.layers.Dense(128, activation=tf.nn.leaky_relu)(encoder)\n",
        "encoder = keras.layers.Dense(64, activation=tf.nn.leaky_relu)(encoder)\n",
        "encoder = keras.layers.Dense(16, activation=tf.nn.leaky_relu)(encoder)\n",
        "\n",
        "\n",
        "decoder = keras.layers.Dense(64, activation=tf.nn.leaky_relu, name=\"decoder1\")(encoder)\n",
        "decoder = keras.layers.Dense(128, activation=tf.nn.leaky_relu, name=\"decoder2\")(decoder)\n",
        "decoder = keras.layers.Dense(256, activation=tf.nn.leaky_relu, name=\"decoder3\")(decoder)\n",
        "predictions  = keras.layers.Dense(784, activation=tf.nn.sigmoid, name=\"predictions\")(decoder)\n",
        "\n",
        "model = keras.Model(inputs=inputs, outputs=predictions)\n",
        "\n",
        "encoder_model = keras.Model(inputs=inputs, outputs=encoder)\n",
        "\n",
        "encoded_input = keras.Input(shape=(16,))\n",
        "\n",
        "decoder_layer1 = model.get_layer(name=\"decoder1\")\n",
        "decoder_layer2 = model.get_layer(name=\"decoder2\")\n",
        "decoder_layer3 = model.get_layer(name=\"decoder3\")\n",
        "decoded_layer = model.get_layer(name=\"predictions\")\n",
        "\n",
        "decoder_model = keras.Model(inputs=encoded_input, outputs=decoded_layer(decoder_layer3(decoder_layer2(decoder_layer1(encoded_input)))))\n",
        "\n",
        "\n",
        "#Define training\n",
        "model.compile(optimizer='RMSProp', loss='binary_crossentropy', metrics=['mae'])\n",
        "\n",
        "#import data into memory\n",
        "(x_train, _),(x_test, _) = mnist.load_data()\n",
        "x_train, x_test = x_train / 255.0, x_test / 255.0\n",
        "\n",
        "x_train, x_test = x_train.reshape(-1, 784), x_test.reshape(-1, 784)\n",
        "model.fit(x_train, x_train, epochs=20, batch_size=32)\n"
      ],
      "execution_count": 36,
      "outputs": [
        {
          "output_type": "stream",
          "text": [
            "Epoch 1/20\n",
            "60000/60000 [==============================] - 17s 290us/step - loss: 0.1538 - mean_absolute_error: 0.0764\n",
            "Epoch 2/20\n",
            "53728/60000 [=========================>....] - ETA: 1s - loss: 0.1160 - mean_absolute_error: 0.0501"
          ],
          "name": "stdout"
        },
        {
          "output_type": "stream",
          "text": [
            "60000/60000 [==============================] - 17s 278us/step - loss: 0.1154 - mean_absolute_error: 0.0497\n",
            "Epoch 3/20\n",
            "60000/60000 [==============================] - 17s 278us/step - loss: 0.1071 - mean_absolute_error: 0.0438\n",
            "Epoch 4/20\n",
            "15328/60000 [======>.......................] - ETA: 12s - loss: 0.1041 - mean_absolute_error: 0.0417"
          ],
          "name": "stdout"
        },
        {
          "output_type": "stream",
          "text": [
            "60000/60000 [==============================] - 17s 278us/step - loss: 0.1033 - mean_absolute_error: 0.0411\n",
            "Epoch 5/20\n",
            "60000/60000 [==============================] - 17s 279us/step - loss: 0.1011 - mean_absolute_error: 0.0395\n",
            "Epoch 6/20\n",
            " 3808/60000 [>.............................] - ETA: 15s - loss: 0.0988 - mean_absolute_error: 0.0381"
          ],
          "name": "stdout"
        },
        {
          "output_type": "stream",
          "text": [
            "60000/60000 [==============================] - 17s 277us/step - loss: 0.0996 - mean_absolute_error: 0.0385\n",
            "Epoch 7/20\n",
            "60000/60000 [==============================] - 17s 280us/step - loss: 0.0984 - mean_absolute_error: 0.0377\n",
            "Epoch 8/20\n",
            "  416/60000 [..............................] - ETA: 17s - loss: 0.0974 - mean_absolute_error: 0.0372"
          ],
          "name": "stdout"
        },
        {
          "output_type": "stream",
          "text": [
            "60000/60000 [==============================] - 17s 281us/step - loss: 0.0975 - mean_absolute_error: 0.0370\n",
            "Epoch 9/20\n",
            "59584/60000 [============================>.] - ETA: 0s - loss: 0.0968 - mean_absolute_error: 0.0365"
          ],
          "name": "stdout"
        },
        {
          "output_type": "stream",
          "text": [
            "60000/60000 [==============================] - 17s 281us/step - loss: 0.0968 - mean_absolute_error: 0.0365\n",
            "Epoch 10/20\n",
            "60000/60000 [==============================] - 17s 278us/step - loss: 0.0962 - mean_absolute_error: 0.0361\n",
            "Epoch 11/20\n",
            "17152/60000 [=======>......................] - ETA: 11s - loss: 0.0956 - mean_absolute_error: 0.0358"
          ],
          "name": "stdout"
        },
        {
          "output_type": "stream",
          "text": [
            "60000/60000 [==============================] - 17s 279us/step - loss: 0.0957 - mean_absolute_error: 0.0357\n",
            "Epoch 12/20\n",
            "60000/60000 [==============================] - 17s 283us/step - loss: 0.0952 - mean_absolute_error: 0.0354\n",
            "Epoch 13/20\n",
            " 4000/60000 [=>............................] - ETA: 16s - loss: 0.0947 - mean_absolute_error: 0.0351"
          ],
          "name": "stdout"
        },
        {
          "output_type": "stream",
          "text": [
            "60000/60000 [==============================] - 17s 284us/step - loss: 0.0948 - mean_absolute_error: 0.0351\n",
            "Epoch 14/20\n",
            "60000/60000 [==============================] - 17s 280us/step - loss: 0.0944 - mean_absolute_error: 0.0349\n",
            "Epoch 15/20\n",
            "  416/60000 [..............................] - ETA: 16s - loss: 0.0941 - mean_absolute_error: 0.0349"
          ],
          "name": "stdout"
        },
        {
          "output_type": "stream",
          "text": [
            "60000/60000 [==============================] - 17s 281us/step - loss: 0.0941 - mean_absolute_error: 0.0346\n",
            "Epoch 16/20\n",
            "59456/60000 [============================>.] - ETA: 0s - loss: 0.0938 - mean_absolute_error: 0.0344"
          ],
          "name": "stdout"
        },
        {
          "output_type": "stream",
          "text": [
            "60000/60000 [==============================] - 17s 281us/step - loss: 0.0938 - mean_absolute_error: 0.0344\n",
            "Epoch 17/20\n",
            "60000/60000 [==============================] - 17s 281us/step - loss: 0.0935 - mean_absolute_error: 0.0342\n",
            "Epoch 18/20\n",
            "16800/60000 [=======>......................] - ETA: 12s - loss: 0.0933 - mean_absolute_error: 0.0341"
          ],
          "name": "stdout"
        },
        {
          "output_type": "stream",
          "text": [
            "60000/60000 [==============================] - 17s 281us/step - loss: 0.0933 - mean_absolute_error: 0.0341\n",
            "Epoch 19/20\n",
            "60000/60000 [==============================] - 17s 282us/step - loss: 0.0931 - mean_absolute_error: 0.0339\n",
            "Epoch 20/20\n",
            " 4032/60000 [=>............................] - ETA: 15s - loss: 0.0928 - mean_absolute_error: 0.0337"
          ],
          "name": "stdout"
        },
        {
          "output_type": "stream",
          "text": [
            "60000/60000 [==============================] - 17s 283us/step - loss: 0.0929 - mean_absolute_error: 0.0338\n"
          ],
          "name": "stdout"
        },
        {
          "output_type": "execute_result",
          "data": {
            "text/plain": [
              "<tensorflow.python.keras.callbacks.History at 0x7faa334e3f28>"
            ]
          },
          "metadata": {
            "tags": []
          },
          "execution_count": 36
        }
      ]
    },
    {
      "metadata": {
        "id": "T1Zvmc4iVRbX",
        "colab_type": "code",
        "colab": {
          "base_uri": "https://localhost:8080/",
          "height": 244
        },
        "outputId": "12f1930f-2725-4f0a-deae-e184e362c259"
      },
      "cell_type": "code",
      "source": [
        "decoded_imgs = model.predict(x_test)\n",
        "\n",
        "n = 10  # how many digits we will display\n",
        "plt.figure(figsize=(20, 4))\n",
        "for i in range(n):\n",
        "    # display original\n",
        "    ax = plt.subplot(2, n, i + 1)\n",
        "    plt.imshow(x_test[i].reshape(28, 28))\n",
        "    plt.gray()\n",
        "    ax.get_xaxis().set_visible(False)\n",
        "    ax.get_yaxis().set_visible(False)\n",
        "\n",
        "    # display reconstruction\n",
        "    ax = plt.subplot(2, n, i + 1 + n)\n",
        "    plt.imshow(decoded_imgs[i].reshape(28, 28))\n",
        "    plt.gray()\n",
        "    ax.get_xaxis().set_visible(False)\n",
        "    ax.get_yaxis().set_visible(False)\n",
        "plt.show()"
      ],
      "execution_count": 37,
      "outputs": [
        {
          "output_type": "display_data",
          "data": {
            "image/png": "[encoded data removed]",
            "text/plain": [
              "<matplotlib.figure.Figure at 0x7faa33768198>"
            ]
          },
          "metadata": {
            "tags": []
          }
        }
      ]
    },
    {
      "metadata": {
        "id": "98wZ495cN-Yt",
        "colab_type": "code",
        "colab": {
          "base_uri": "https://localhost:8080/",
          "height": 181
        },
        "outputId": "fa95a90a-d457-48a9-cd10-17d0bf659a43"
      },
      "cell_type": "code",
      "source": [
        "#test encoder\n",
        "encoded_img = encoder_model.predict(x_test)[0]\n",
        "print(encoded_img)\n",
        "\n",
        "#test decoder\n",
        "decoded_img = decoder_model.predict(encoded_img.reshape(-1, 16))[0]\n",
        "\n",
        "plt.figure(figsize=(20, 4))\n",
        "ax = plt.subplot(2, 1, 1)\n",
        "plt.imshow(decoded_img.reshape(28, 28))\n",
        "plt.gray()\n",
        "ax.get_xaxis().set_visible(False)\n",
        "ax.get_yaxis().set_visible(False)"
      ],
      "execution_count": 38,
      "outputs": [
        {
          "output_type": "stream",
          "text": [
            "[6.0172625  2.3057396  1.5657487  0.58819115 1.4372793  6.8459187\n",
            " 1.4281791  0.13125375 4.080515   2.8944273  1.1310444  2.62506\n",
            " 3.1937304  2.9984148  2.8758643  2.2476857 ]\n"
          ],
          "name": "stdout"
        },
        {
          "output_type": "display_data",
          "data": {
            "image/png": "[encoded data removed]",
            "text/plain": [
              "<matplotlib.figure.Figure at 0x7faa4dd626a0>"
            ]
          },
          "metadata": {
            "tags": []
          }
        }
      ]
    },
    {
      "metadata": {
        "id": "dJQxbnQZY3ND",
        "colab_type": "code",
        "colab": {
          "base_uri": "https://localhost:8080/",
          "height": 34
        },
        "outputId": "31f9f67c-7a76-45e4-9597-9a06aa90a5f5"
      },
      "cell_type": "code",
      "source": [
        "#save model\n",
        "!mkdir /tmp/keras\n",
        "model.save('/tmp/keras/model.h5')"
      ],
      "execution_count": 42,
      "outputs": [
        {
          "output_type": "stream",
          "text": [
            "mkdir: cannot create directory ‘/tmp/keras’: File exists\r\n"
          ],
          "name": "stdout"
        }
      ]
    },
    {
      "metadata": {
        "id": "Moe-BqqHZ2oK",
        "colab_type": "code",
        "colab": {
          "base_uri": "https://localhost:8080/",
          "height": 51
        },
        "outputId": "5b6cc4f7-86bb-4106-a8cf-5a77fcc4014d"
      },
      "cell_type": "code",
      "source": [
        "filename = \"keras\" #@param {type:\"string\"}\n",
        "folders_or_files_to_save = \"/tmp/keras\" #@param {type:\"string\"}\n",
        "from google.colab import files\n",
        "from google.colab import auth\n",
        "from googleapiclient.http import MediaFileUpload\n",
        "from googleapiclient.discovery import build\n",
        "\n",
        "def save_file_to_drive(name, path):\n",
        "    file_metadata = {\n",
        "    'name': name,\n",
        "    'mimeType': 'application/octet-stream'\n",
        "    }\n",
        "\n",
        "    media = MediaFileUpload(path, \n",
        "                  mimetype='application/octet-stream',\n",
        "                  resumable=True)\n",
        "\n",
        "    created = drive_service.files().create(body=file_metadata, media_body=media, fields='id').execute()\n",
        "\n",
        "    print('File ID: {}'.format(created.get('id')))\n",
        "\n",
        "    return created\n",
        "\n",
        "\n",
        "extension_zip = \".zip\"\n",
        "\n",
        "zip_file = filename + extension_zip\n",
        "\n",
        "# !rm -rf $zip_file\n",
        "!zip -r $zip_file {folders_or_files_to_save} # FOLDERS TO SAVE INTO ZIP FILE\n",
        "\n",
        "auth.authenticate_user()\n",
        "drive_service = build('drive', 'v3')\n",
        "\n",
        "destination_name = zip_file\n",
        "path_to_file = zip_file\n",
        "save_file_to_drive(destination_name, path_to_file)"
      ],
      "execution_count": 43,
      "outputs": [
        {
          "output_type": "stream",
          "text": [
            "File ID: 1mQ4lIs1Ot2Qfd9loJHHAEU0OWOxF9SEd\n"
          ],
          "name": "stdout"
        },
        {
          "output_type": "execute_result",
          "data": {
            "text/plain": [
              "{'id': '1mQ4lIs1Ot2Qfd9loJHHAEU0OWOxF9SEd'}"
            ]
          },
          "metadata": {
            "tags": []
          },
          "execution_count": 43
        }
      ]
    }
  ]
}